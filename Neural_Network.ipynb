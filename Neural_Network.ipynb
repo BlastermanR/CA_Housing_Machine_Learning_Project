{
 "cells": [
  {
   "cell_type": "markdown",
   "id": "e5bf3f35",
   "metadata": {},
   "source": [
    "## Neutral Network Model for CA Housing Dataset\n",
    "\n",
    "#### 1. Prepare Data\n",
    "Model specific pre-processing, including creating datasets and scaling data for neural network."
   ]
  },
  {
   "cell_type": "code",
   "execution_count": 42,
   "id": "f5175ba2",
   "metadata": {},
   "outputs": [
    {
     "name": "stdout",
     "output_type": "stream",
     "text": [
      "Train size: 11027\n",
      "Validation size: 3676\n",
      "Test size: 3676\n"
     ]
    }
   ],
   "source": [
    "import pandas as pd\n",
    "import numpy as np\n",
    "from sklearn.model_selection import train_test_split\n",
    "from sklearn.preprocessing import StandardScaler\n",
    "\n",
    "# Import dataset\n",
    "dataset = pd.read_csv('datasets/preprocessed_dataset.csv')\n",
    "\n",
    "# Step 1: First split (Train: 60%, Temp: 40%)\n",
    "train_set, temp_set = train_test_split(dataset, test_size=0.4, random_state=42)\n",
    "\n",
    "# Step 2: Second split (Validation: 20%, Test: 20% from the 40%)\n",
    "val_set, test_set = train_test_split(temp_set, test_size=0.5, random_state=42)\n",
    "\n",
    "# Check sizes\n",
    "print(f\"Train size: {len(train_set)}\")\n",
    "print(f\"Validation size: {len(val_set)}\")\n",
    "print(f\"Test size: {len(test_set)}\")\n",
    "\n",
    "# Select the columns to scale (last two columns)\n",
    "cols_to_scale = ['median_income', 'median_house_value']\n",
    "\n",
    "# Initialize scaler and fit on training data only\n",
    "scaler = StandardScaler()\n",
    "train_scaled_values = scaler.fit_transform(train_set[cols_to_scale])\n",
    "val_scaled_values = scaler.transform(val_set[cols_to_scale])\n",
    "test_scaled_values = scaler.transform(test_set[cols_to_scale])\n",
    "\n",
    "# Create new column names\n",
    "scaled_col_names = [f\"{col}_scaled\" for col in cols_to_scale]\n",
    "\n",
    "# Add scaled columns and drop originals\n",
    "for df, scaled_data in zip([train_set, val_set, test_set], [train_scaled_values, val_scaled_values, test_scaled_values]):\n",
    "    for orig_col, scaled_col in zip(cols_to_scale, scaled_col_names):\n",
    "        df[scaled_col] = scaled_data[:, scaled_col_names.index(scaled_col)]\n",
    "    df.drop(columns=cols_to_scale, inplace=True)\n",
    "\n",
    "# Select features for model\n",
    "feature_cols = ['longitude', 'latitude', 'ocean_proximity_encoded', 'median_income_scaled',]\n",
    "target_col = 'median_house_value_scaled'\n",
    "\n",
    "# Extract features and targets and convert to numpy\n",
    "X_train = train_set[feature_cols].to_numpy()\n",
    "y_train = train_set[target_col].to_numpy()\n",
    "X_val = val_set[feature_cols].to_numpy()\n",
    "y_val = val_set[target_col].to_numpy()\n",
    "X_test = test_set[feature_cols].to_numpy()\n",
    "y_test = test_set[target_col].to_numpy()"
   ]
  },
  {
   "cell_type": "markdown",
   "id": "ffa17e7b",
   "metadata": {},
   "source": [
    "#### Define Model Parameters\n",
    "Define Model and Hyperparameter Set\n"
   ]
  },
  {
   "cell_type": "code",
   "execution_count": null,
   "id": "ed2b2857",
   "metadata": {},
   "outputs": [
    {
     "ename": "NameError",
     "evalue": "name 'X_train' is not defined",
     "output_type": "error",
     "traceback": [
      "\u001b[1;31m---------------------------------------------------------------------------\u001b[0m",
      "\u001b[1;31mNameError\u001b[0m                                 Traceback (most recent call last)",
      "Cell \u001b[1;32mIn[37], line 14\u001b[0m\n\u001b[0;32m     12\u001b[0m \u001b[38;5;66;03m# Train Model\u001b[39;00m\n\u001b[0;32m     13\u001b[0m model \u001b[38;5;241m=\u001b[39m MLPRegressor(\u001b[38;5;241m*\u001b[39m\u001b[38;5;241m*\u001b[39mmlp_params)\n\u001b[1;32m---> 14\u001b[0m model\u001b[38;5;241m.\u001b[39mfit(\u001b[43mX_train\u001b[49m, y_train)\n",
      "\u001b[1;31mNameError\u001b[0m: name 'X_train' is not defined"
     ]
    }
   ],
   "source": [
    "from sklearn.neural_network import MLPRegressor\n",
    "from sklearn.model_selection import GridSearchCV\n",
    "\n",
    "# Define Hyperparameters\n",
    "param_grid = {\n",
    "    'hidden_layer_sizes': [(8,), (16, 8), (32, 16, 8)],\n",
    "    'activation': ['relu', 'tanh'],\n",
    "    'alpha': [0.0001, 0.001],  # L2 regularization strength\n",
    "    'solver': ['adam'],\n",
    "    'max_iter': [1000]\n",
    "}\n",
    "\n",
    "# Create base model\n",
    "mlp = MLPRegressor(random_state=42)\n",
    "\n",
    "# GridSearchCV with 3-fold cross-validation on training set\n",
    "grid_search = GridSearchCV(mlp, param_grid, cv=3, scoring='neg_mean_squared_error', n_jobs=-1)\n",
    "\n",
    "# Fit only on the training set\n",
    "grid_search.fit(X_train, y_train)\n",
    "\n"
   ]
  }
 ],
 "metadata": {
  "kernelspec": {
   "display_name": "MachineLearning",
   "language": "python",
   "name": "python3"
  },
  "language_info": {
   "codemirror_mode": {
    "name": "ipython",
    "version": 3
   },
   "file_extension": ".py",
   "mimetype": "text/x-python",
   "name": "python",
   "nbconvert_exporter": "python",
   "pygments_lexer": "ipython3",
   "version": "3.12.8"
  }
 },
 "nbformat": 4,
 "nbformat_minor": 5
}
