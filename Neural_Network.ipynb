{
 "cells": [
  {
   "cell_type": "markdown",
   "id": "e5bf3f35",
   "metadata": {},
   "source": [
    "## Neutral Network Model for CA Housing Dataset\n",
    "\n",
    "#### 1. Prepare Data\n",
    "Model specific pre-processing, including creating datasets and scaling data for neural network."
   ]
  },
  {
   "cell_type": "code",
   "execution_count": null,
   "id": "f5175ba2",
   "metadata": {},
   "outputs": [],
   "source": [
    "import pandas as pd\n",
    "import numpy as np\n",
    "from sklearn.model_selection import train_test_split\n",
    "from sklearn.preprocessing import StandardScaler\n",
    "\n",
    "# Import dataset\n",
    "dataset = pd.read_csv('datasets/preprocessed_dataset.csv')\n",
    "\n",
    "# Define Number of iterations to Test\n",
    "ITERATION_COUNT = 20\n",
    "\n",
    "# dataset array\n",
    "X_train = []\n",
    "y_train = []\n",
    "X_test  = []\n",
    "y_test  = []\n",
    "\n",
    "# For iterative Steps create 20 dataset variations\n",
    "for i in range(0,ITERATION_COUNT):\n",
    "    # Step 1: First split (Train: 80%, Test: 20%)\n",
    "    train_set, test_set = train_test_split(dataset, test_size=0.2, random_state=42 + i)\n",
    "\n",
    "    # Select the columns to scale (last two columns)\n",
    "    cols_to_scale = ['longitude', 'latitude', 'median_income', 'median_house_value']\n",
    "\n",
    "    # Initialize scaler and fit on training data only\n",
    "    scaler = StandardScaler()\n",
    "    train_scaled_values = scaler.fit_transform(train_set[cols_to_scale])\n",
    "    test_scaled_values = scaler.transform(test_set[cols_to_scale])\n",
    "\n",
    "    # Create new column names\n",
    "    scaled_col_names = [f\"{col}_scaled\" for col in cols_to_scale]\n",
    "\n",
    "    # Add scaled columns and drop originals\n",
    "    for df, scaled_data in zip([train_set, test_set], [train_scaled_values, test_scaled_values]):\n",
    "        for orig_col, scaled_col in zip(cols_to_scale, scaled_col_names):\n",
    "            df[scaled_col] = scaled_data[:, scaled_col_names.index(scaled_col)]\n",
    "\n",
    "    # Select features for model\n",
    "    feature_cols = ['longitude_scaled', 'latitude_scaled', 'ocean_proximity_encoded', 'median_income_scaled',]\n",
    "    target_col = 'median_house_value_scaled'\n",
    "\n",
    "    # Extract features and targets and convert to numpy\n",
    "    X_train.append(train_set[feature_cols].to_numpy())\n",
    "    y_train.append(train_set[target_col].to_numpy())\n",
    "    X_test.append(test_set[feature_cols].to_numpy())\n",
    "    y_test.append(test_set[target_col].to_numpy())"
   ]
  },
  {
   "cell_type": "markdown",
   "id": "ffa17e7b",
   "metadata": {},
   "source": [
    "#### 2. Define Model Parameters & Train Model\n",
    "1. Define **Hyperparameter** Set for **Grid Search**\n",
    "2. For each iteration:\n",
    "    1. Define model --> use grid search to **optimize/train model**\n",
    "    2. **Test model** and store results "
   ]
  },
  {
   "cell_type": "code",
   "execution_count": 133,
   "id": "70f77278",
   "metadata": {},
   "outputs": [
    {
     "name": "stdout",
     "output_type": "stream",
     "text": [
      "Fitting 3 folds for each of 12 candidates, totalling 36 fits\n",
      "Best parameters found for iteration 0: {'activation': 'tanh', 'alpha': 0.001, 'early_stopping': True, 'hidden_layer_sizes': (16, 64, 128, 64, 16), 'max_iter': 1000, 'n_iter_no_change': 50, 'solver': 'adam', 'validation_fraction': 0.2}\n",
      "Test MSE with best model: 0.2387\n",
      "Test MAPE with best model : 1.6932\n",
      "Test R² score: 0.7573\n"
     ]
    }
   ],
   "source": [
    "from sklearn.neural_network import MLPRegressor\n",
    "from sklearn.model_selection import GridSearchCV\n",
    "from sklearn.metrics import mean_squared_error\n",
    "from sklearn.metrics import r2_score\n",
    "from sklearn.metrics import mean_absolute_percentage_error\n",
    "\n",
    "# Define hyperparameters to search over\n",
    "param_grid = {\n",
    "    'hidden_layer_sizes': [ # Many iterations were run to find a good set of layer sizes to test\n",
    "        (16, 32, 32, 16),   # (Stoped once improvments became marginal / signs of overfitting occured)\n",
    "        (16,32,64,32,16), \n",
    "        (16,64,128,64,16)\n",
    "    ], \n",
    "    'activation': ['relu', 'tanh'], # Tested different Activation Functions\n",
    "    'alpha': [0.0001, 0.001],       # Regularizarion values to test\n",
    "    'solver': ['adam'],             # Always use adam optimization model\n",
    "    'max_iter': [1000],             # Alwayys use 1000 iterations\n",
    "    'early_stopping': [True],       # Use validation set to benchmark model performance and limit overfitting\n",
    "    'n_iter_no_change' : [50],      # High Validation Patience to overcome it stopping too early\n",
    "    'validation_fraction': [0.2]    # 20% of training data used as validation during training\n",
    "}\n",
    "\n",
    "# Testing Results\n",
    "Neural_Network_MSE = []\n",
    "Neural_Network_MAPE = []\n",
    "Neural_Network_R2 = []\n",
    "\n",
    "for i in range(0,ITERATION_COUNT):\n",
    "    # Define base model\n",
    "    mlp = MLPRegressor(random_state=42,)\n",
    "\n",
    "    # Perform Grid Search with 3-fold cross-validation\n",
    "    grid_search = GridSearchCV(\n",
    "        mlp,\n",
    "        param_grid,\n",
    "        cv=3,\n",
    "        scoring='neg_mean_squared_error',\n",
    "        n_jobs=-1,\n",
    "        verbose=2\n",
    "    )\n",
    "\n",
    "    # Fit only on the training set\n",
    "    grid_search.fit(X_train[i], y_train[i])\n",
    "\n",
    "    from sklearn.metrics import accuracy_score\n",
    "\n",
    "    # Evaluate best model on the validation set\n",
    "    best_model = grid_search.best_estimator_\n",
    "    test_preds = best_model.predict(X_test[i])\n",
    "    test_mse = mean_squared_error(y_test[i], test_preds)\n",
    "    test_mape = mean_absolute_percentage_error(y_test[i], test_preds)\n",
    "    test_r2 = r2_score(y_test[i], test_preds)\n",
    "\n",
    "    # Print Results\n",
    "    print(f\"Best parameters found for iteration {i}: {grid_search.best_params_}\")\n",
    "    print(f\"Test MSE with best model: {test_mse:.4f}\")\n",
    "    print(f\"Test MAPE with best model : {test_mape:.4f}\")\n",
    "    print(f\"Test R² score: {test_r2:.4f}\")\n",
    "\n",
    "    # Append to Results\n",
    "    Neural_Network_MSE.append(test_mse)\n",
    "    Neural_Network_MAPE.append(test_mape)\n",
    "    Neural_Network_R2.append(test_r2)"
   ]
  },
  {
   "cell_type": "markdown",
   "id": "403c0b67",
   "metadata": {},
   "source": [
    "#### 3. Make Boxplots of Results\n",
    "1. Mean Squared Error\n",
    "2. Mean Average Percentage Error\n",
    "3. R^2"
   ]
  },
  {
   "cell_type": "code",
   "execution_count": 134,
   "id": "8e677768",
   "metadata": {},
   "outputs": [
    {
     "data": {
      "image/png": "[encoded data removed]",
      "text/plain": [
       "<Figure size 800x600 with 1 Axes>"
      ]
     },
     "metadata": {},
     "output_type": "display_data"
    }
   ],
   "source": [
    "import matplotlib.pyplot as plt\n",
    "import seaborn as sns\n",
    "\n",
    "# Combine data into a single DataFrame\n",
    "data = pd.DataFrame({\n",
    "    'MSE': Neural_Network_MSE,\n",
    "    'MAPE': Neural_Network_MAPE,\n",
    "    'R²': Neural_Network_R2\n",
    "})\n",
    "\n",
    "# Melt the DataFrame to long-form for seaborn\n",
    "long_data = data.melt(var_name='Metric', value_name='Score')\n",
    "\n",
    "# Plot boxplot\n",
    "plt.figure(figsize=(8, 6))\n",
    "sns.boxplot(x='Metric', y='Score', data=long_data)\n",
    "plt.title(\"Neural Network Performance Metrics\")\n",
    "plt.grid(True)\n",
    "plt.tight_layout()\n",
    "plt.show()"
   ]
  }
 ],
 "metadata": {
  "kernelspec": {
   "display_name": "MachineLearning",
   "language": "python",
   "name": "python3"
  },
  "language_info": {
   "codemirror_mode": {
    "name": "ipython",
    "version": 3
   },
   "file_extension": ".py",
   "mimetype": "text/x-python",
   "name": "python",
   "nbconvert_exporter": "python",
   "pygments_lexer": "ipython3",
   "version": "3.12.8"
  }
 },
 "nbformat": 4,
 "nbformat_minor": 5
}
