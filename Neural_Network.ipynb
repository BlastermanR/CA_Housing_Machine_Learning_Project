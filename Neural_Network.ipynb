{
 "cells": [
  {
   "cell_type": "markdown",
   "id": "e5bf3f35",
   "metadata": {},
   "source": [
    "## Neutral Network Model for CA Housing Dataset\n",
    "\n",
    "#### 1. Prepare Data\n",
    "Model specific pre-processing, including scaling data for neural network."
   ]
  },
  {
   "cell_type": "code",
   "execution_count": 34,
   "id": "f5175ba2",
   "metadata": {},
   "outputs": [],
   "source": [
    "import pandas as pd\n",
    "from sklearn.preprocessing import StandardScaler\n",
    "\n",
    "# Import Datasets\n",
    "train = pd.read_csv('datasets/train.csv')\n",
    "val = pd.read_csv('datasets/val.csv')\n",
    "test = pd.read_csv('datasets/test.csv')\n",
    "\n",
    "# Select the columns to scale (last two columns)\n",
    "cols_to_scale = ['median_income', 'median_house_value']\n",
    "\n",
    "# Initialize scaler and fit on training data only\n",
    "scaler = StandardScaler()\n",
    "train_scaled_values = scaler.fit_transform(train[cols_to_scale])\n",
    "val_scaled_values = scaler.transform(val[cols_to_scale])\n",
    "test_scaled_values = scaler.transform(test[cols_to_scale])\n",
    "\n",
    "# Create new column names\n",
    "scaled_col_names = [f\"{col}_scaled\" for col in cols_to_scale]\n",
    "\n",
    "# Add scaled columns and drop originals\n",
    "for df, scaled_data in zip([train, val, test], [train_scaled_values, val_scaled_values, test_scaled_values]):\n",
    "    for orig_col, scaled_col in zip(cols_to_scale, scaled_col_names):\n",
    "        df[scaled_col] = scaled_data[:, scaled_col_names.index(scaled_col)]\n",
    "    df.drop(columns=cols_to_scale, inplace=True)"
   ]
  },
  {
   "cell_type": "markdown",
   "id": "ffa17e7b",
   "metadata": {},
   "source": [
    "#### Define Model Parameters\n",
    "Define Model and Hyperparameter Set\n"
   ]
  },
  {
   "cell_type": "code",
   "execution_count": null,
   "id": "ed2b2857",
   "metadata": {},
   "outputs": [],
   "source": [
    "\n",
    "\n",
    "\n"
   ]
  }
 ],
 "metadata": {
  "kernelspec": {
   "display_name": "MachineLearning",
   "language": "python",
   "name": "python3"
  },
  "language_info": {
   "codemirror_mode": {
    "name": "ipython",
    "version": 3
   },
   "file_extension": ".py",
   "mimetype": "text/x-python",
   "name": "python",
   "nbconvert_exporter": "python",
   "pygments_lexer": "ipython3",
   "version": "3.12.8"
  }
 },
 "nbformat": 4,
 "nbformat_minor": 5
}
